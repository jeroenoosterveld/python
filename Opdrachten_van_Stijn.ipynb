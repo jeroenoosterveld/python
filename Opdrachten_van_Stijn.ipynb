{
  "nbformat": 4,
  "nbformat_minor": 0,
  "metadata": {
    "colab": {
      "name": "Opdrachten van Stijn",
      "provenance": [],
      "collapsed_sections": [],
      "include_colab_link": true
    },
    "kernelspec": {
      "display_name": "Python 3",
      "name": "python3"
    }
  },
  "cells": [
    {
      "cell_type": "markdown",
      "metadata": {
        "id": "view-in-github",
        "colab_type": "text"
      },
      "source": [
        "<a href=\"https://colab.research.google.com/github/jeroenoosterveld/python/blob/master/Opdrachten_van_Stijn.ipynb\" target=\"_parent\"><img src=\"https://colab.research.google.com/assets/colab-badge.svg\" alt=\"Open In Colab\"/></a>"
      ]
    },
    {
      "cell_type": "markdown",
      "metadata": {
        "id": "wI3vXnJ3a035",
        "colab_type": "text"
      },
      "source": [
        "# Opdracht 1 - Getallen Strings en Conversion\n",
        "\n",
        "\n"
      ]
    },
    {
      "cell_type": "code",
      "metadata": {
        "id": "yrrArBYsbgFJ",
        "colab_type": "code",
        "outputId": "cb79bda0-ffdd-407c-add6-550b50182287",
        "colab": {
          "base_uri": "https://localhost:8080/",
          "height": 34
        }
      },
      "source": [
        "cijferICOR = [5.1, 7.5, 4.3]\n",
        "cijferPROG = [7.0, 4.5, 3.5]\n",
        "cijferCSN  = [5.1, 8.8, 10]\n",
        "bedrag     = 30                # €30,- per punt\n",
        "\n",
        "# Bereken het gemiddelde van elk vak\n",
        "gemICOR = sum(cijferICOR)/len(cijferICOR)\n",
        "gemPROG = sum(cijferPROG)/len(cijferPROG)\n",
        "gemCSN  = sum(cijferCSN)/len(cijferCSN)\n",
        "\n",
        "# Bereken het totaal aantal cijfers\n",
        "aantalCijfers = len(cijferICOR) + len(cijferPROG) + len(cijferCSN)\n",
        "\n",
        "# Bereken het totale gemiddelde\n",
        "gemiddelde = (gemICOR + gemPROG + gemCSN) / 3\n",
        "\n",
        "# Bereken de totale beloning\n",
        "beloning   = gemiddelde * bedrag * aantalCijfers\n",
        "\n",
        "print(\"Mijn cijfers (gemiddeld een \", \"{:.1f}\".format(gemiddelde), \") leveren een beloning van €\", \"{:,.2f}\".format(beloning) ,\"op!\")\n"
      ],
      "execution_count": 0,
      "outputs": [
        {
          "output_type": "stream",
          "text": [
            "Mijn cijfers (gemiddeld een  6.2 ) leveren een beloning van € 1,674.00 op!\n"
          ],
          "name": "stdout"
        }
      ]
    },
    {
      "cell_type": "markdown",
      "metadata": {
        "id": "QSRs5MuylaqT",
        "colab_type": "text"
      },
      "source": [
        "# Opdracht 2 - Loon\n",
        "### Zonder validatie:"
      ]
    },
    {
      "cell_type": "code",
      "metadata": {
        "id": "XgGDMHfsnRrS",
        "colab_type": "code",
        "outputId": "f3c5fd63-c6d0-439b-ce24-ab41ffda6f5c",
        "colab": {
          "base_uri": "https://localhost:8080/",
          "height": 68
        }
      },
      "source": [
        "loon = input(\"Wat verdien je per uur:\")\n",
        "uren = input(\"Hoeveel uur heb je gewerkt:\")\n",
        "\n",
        "# Bereken het totaal\n",
        "totaal = int(loon) * int(uren)\n",
        "\n",
        "print(uren, \"uur werken levert \", totaal, \"Euro op\")\n"
      ],
      "execution_count": 0,
      "outputs": [
        {
          "output_type": "stream",
          "text": [
            "Wat verdien je per uur:10\n",
            "Hoeveel uur heb je gewerkt:5\n",
            "5 uur werken levert  50 Euro op\n"
          ],
          "name": "stdout"
        }
      ]
    },
    {
      "cell_type": "markdown",
      "metadata": {
        "id": "2NuskH0AnkWS",
        "colab_type": "text"
      },
      "source": [
        "### Met validatie:"
      ]
    },
    {
      "cell_type": "code",
      "metadata": {
        "id": "LCsp5uq0lgnz",
        "colab_type": "code",
        "outputId": "18138a5a-3802-4279-e109-cb528ec784e1",
        "colab": {
          "base_uri": "https://localhost:8080/",
          "height": 68
        }
      },
      "source": [
        "loon = input(\"Wat verdien je per uur:\")\n",
        "uren = input(\"Hoeveel uur heb je gewerkt:\")\n",
        "\n",
        "# Bereken het totaal\n",
        "try:\n",
        "  totaal = int(loon) * int(uren)\n",
        "\n",
        "  print(uren, \"uur werken levert \", totaal, \"Euro op\")\n",
        "\n",
        "except ValueError:\n",
        "   print(\"Je moet wel nummers invullen!\")"
      ],
      "execution_count": 0,
      "outputs": [
        {
          "output_type": "stream",
          "text": [
            "Wat verdien je per uur:10.5\n",
            "Hoeveel uur heb je gewerkt:3\n",
            "Je moet wel nummers invullen!\n"
          ],
          "name": "stdout"
        }
      ]
    },
    {
      "cell_type": "markdown",
      "metadata": {
        "id": "TuviT4Ns2z0u",
        "colab_type": "text"
      },
      "source": [
        ""
      ]
    },
    {
      "cell_type": "markdown",
      "metadata": {
        "id": "tk2oebl3n5X6",
        "colab_type": "text"
      },
      "source": [
        "### Met validatie (float):"
      ]
    },
    {
      "cell_type": "code",
      "metadata": {
        "id": "x4ZoJD3Kn9qD",
        "colab_type": "code",
        "outputId": "5ca64d92-94cb-4471-a09f-aaa55de5f62f",
        "colab": {
          "base_uri": "https://localhost:8080/",
          "height": 68
        }
      },
      "source": [
        "loon = input(\"Wat verdien je per uur:\")\n",
        "uren = input(\"Hoeveel uur heb je gewerkt:\")\n",
        "\n",
        "# Bereken het totaal\n",
        "try:\n",
        "  totaal = float(loon) * float(uren)\n",
        "\n",
        "  print(uren, \"uur werken levert \", totaal, \"Euro op\")\n",
        "\n",
        "except ValueError:\n",
        "   print(\"Je moet wel nummers invullen!\")"
      ],
      "execution_count": 1,
      "outputs": [
        {
          "output_type": "stream",
          "text": [
            "Wat verdien je per uur:10\n",
            "Hoeveel uur heb je gewerkt:5\n",
            "5 uur werken levert  50.0 Euro op\n"
          ],
          "name": "stdout"
        }
      ]
    },
    {
      "cell_type": "markdown",
      "metadata": {
        "id": "TGhXDT7m28HQ",
        "colab_type": "text"
      },
      "source": [
        "# Datatypes"
      ]
    },
    {
      "cell_type": "markdown",
      "metadata": {
        "id": "QZ2Uqn1l3F_S",
        "colab_type": "text"
      },
      "source": [
        "## Python Collections (Arrays)"
      ]
    },
    {
      "cell_type": "markdown",
      "metadata": {
        "id": "LzV1xjXB3JOV",
        "colab_type": "text"
      },
      "source": [
        "### List\n",
        "A list is a collection which is **ordered** and **changeable**. In Python lists are written with square brackets."
      ]
    },
    {
      "cell_type": "code",
      "metadata": {
        "id": "hSuCcoNC3LET",
        "colab_type": "code",
        "colab": {
          "base_uri": "https://localhost:8080/",
          "height": 272
        },
        "outputId": "f54c4ded-60d5-4054-bf52-31a01de8952e"
      },
      "source": [
        "# List #\n",
        "thislist = [\"apple\", \"banana\", \"cherry\"]\n",
        "print(thislist)\n",
        "\n",
        "# Access item #\n",
        "thislist = [\"apple\", \"banana\", \"cherry\"]\n",
        "print(thislist[1])\n",
        "\n",
        "# Negative indexing #\n",
        "thislist = [\"apple\", \"banana\", \"cherry\"]\n",
        "print(thislist[-1])\n",
        "\n",
        "# Range of Indexes #\n",
        "thislist = [\"apple\", \"banana\", \"cherry\", \"orange\", \"kiwi\", \"melon\", \"mango\"]\n",
        "print(thislist[2:5])\n",
        "\n",
        "# Loop through a List #\n",
        "thislist = [\"apple\", \"banana\", \"cherry\"]\n",
        "for x in thislist:\n",
        "  print(x)\n",
        "\n",
        "# Check if Item Exists #\n",
        "thislist = [\"apple\", \"banana\", \"cherry\"]\n",
        "if \"apple\" in thislist:\n",
        "  print(\"Yes, 'apple' is in the fruits list\")\n",
        "  \n",
        "# List Length #\n",
        "thislist = [\"apple\", \"banana\", \"cherry\"]\n",
        "print(len(thislist))\n",
        "\n",
        "# Change Item #\n",
        "thislist = [\"apple\", \"banana\", \"cherry\"]\n",
        "thislist[1] = \"blackcurrant\"\n",
        "print(thislist)\n",
        "\n",
        "# Add Items #\n",
        "thislist = [\"apple\", \"banana\", \"cherry\"]\n",
        "thislist.append(\"orange\")\n",
        "print(thislist)\n",
        "\n",
        "# Remove Item - remove() #\n",
        "thislist = [\"apple\", \"banana\", \"cherry\"]\n",
        "thislist.remove(\"banana\")\n",
        "print(thislist)\n",
        "\n",
        "# Remove Item - pop() #\n",
        "thislist = [\"apple\", \"banana\", \"cherry\"]\n",
        "thislist.pop()\n",
        "print(thislist)\n",
        "\n",
        "# Remove Item - del #\n",
        "thislist = [\"apple\", \"banana\", \"cherry\"]\n",
        "del thislist[0]\n",
        "print(thislist)\n",
        "\n",
        "# Remove List - del #\n",
        "thislist = [\"apple\", \"banana\", \"cherry\"]\n",
        "del thislist\n",
        "\n",
        "# Empty List #\n",
        "thislist = [\"apple\", \"banana\", \"cherry\"]\n",
        "thislist.clear()\n",
        "print(thislist)"
      ],
      "execution_count": 8,
      "outputs": [
        {
          "output_type": "stream",
          "text": [
            "['apple', 'banana', 'cherry']\n",
            "banana\n",
            "cherry\n",
            "['cherry', 'orange', 'kiwi']\n",
            "apple\n",
            "banana\n",
            "cherry\n",
            "Yes, 'apple' is in the fruits list\n",
            "3\n",
            "['apple', 'blackcurrant', 'cherry']\n",
            "['apple', 'banana', 'cherry', 'orange']\n",
            "['apple', 'cherry']\n",
            "['apple', 'banana']\n",
            "['banana', 'cherry']\n",
            "[]\n"
          ],
          "name": "stdout"
        }
      ]
    }
  ]
}