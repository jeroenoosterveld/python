{
  "nbformat": 4,
  "nbformat_minor": 0,
  "metadata": {
    "colab": {
      "name": "Opdrachten van Stijn",
      "provenance": [],
      "collapsed_sections": [],
      "include_colab_link": true
    },
    "kernelspec": {
      "display_name": "Python 3",
      "name": "python3"
    }
  },
  "cells": [
    {
      "cell_type": "markdown",
      "metadata": {
        "id": "view-in-github",
        "colab_type": "text"
      },
      "source": [
        "<a href=\"https://colab.research.google.com/github/jeroenoosterveld/python/blob/master/Opdrachten_van_Stijn.ipynb\" target=\"_parent\"><img src=\"https://colab.research.google.com/assets/colab-badge.svg\" alt=\"Open In Colab\"/></a>"
      ]
    },
    {
      "cell_type": "markdown",
      "metadata": {
        "id": "wI3vXnJ3a035",
        "colab_type": "text"
      },
      "source": [
        "# Opdracht 1 - Getallen Strings en Conversion\n",
        "\n",
        "\n"
      ]
    },
    {
      "cell_type": "code",
      "metadata": {
        "id": "yrrArBYsbgFJ",
        "colab_type": "code",
        "outputId": "cb79bda0-ffdd-407c-add6-550b50182287",
        "colab": {
          "base_uri": "https://localhost:8080/",
          "height": 34
        }
      },
      "source": [
        "cijferICOR = [5.1, 7.5, 4.3]\n",
        "cijferPROG = [7.0, 4.5, 3.5]\n",
        "cijferCSN  = [5.1, 8.8, 10]\n",
        "bedrag     = 30                # €30,- per punt\n",
        "\n",
        "# Bereken het gemiddelde van elk vak\n",
        "gemICOR = sum(cijferICOR)/len(cijferICOR)\n",
        "gemPROG = sum(cijferPROG)/len(cijferPROG)\n",
        "gemCSN  = sum(cijferCSN)/len(cijferCSN)\n",
        "\n",
        "# Bereken het totaal aantal cijfers\n",
        "aantalCijfers = len(cijferICOR) + len(cijferPROG) + len(cijferCSN)\n",
        "\n",
        "# Bereken het totale gemiddelde\n",
        "gemiddelde = (gemICOR + gemPROG + gemCSN) / 3\n",
        "\n",
        "# Bereken de totale beloning\n",
        "beloning   = gemiddelde * bedrag * aantalCijfers\n",
        "\n",
        "print(\"Mijn cijfers (gemiddeld een \", \"{:.1f}\".format(gemiddelde), \") leveren een beloning van €\", \"{:,.2f}\".format(beloning) ,\"op!\")\n"
      ],
      "execution_count": 0,
      "outputs": [
        {
          "output_type": "stream",
          "text": [
            "Mijn cijfers (gemiddeld een  6.2 ) leveren een beloning van € 1,674.00 op!\n"
          ],
          "name": "stdout"
        }
      ]
    },
    {
      "cell_type": "markdown",
      "metadata": {
        "id": "QSRs5MuylaqT",
        "colab_type": "text"
      },
      "source": [
        "# Opdracht 2 - Loon\n",
        "### Zonder validatie:"
      ]
    },
    {
      "cell_type": "code",
      "metadata": {
        "id": "XgGDMHfsnRrS",
        "colab_type": "code",
        "outputId": "f3c5fd63-c6d0-439b-ce24-ab41ffda6f5c",
        "colab": {
          "base_uri": "https://localhost:8080/",
          "height": 68
        }
      },
      "source": [
        "loon = input(\"Wat verdien je per uur:\")\n",
        "uren = input(\"Hoeveel uur heb je gewerkt:\")\n",
        "\n",
        "# Bereken het totaal\n",
        "totaal = int(loon) * int(uren)\n",
        "\n",
        "print(uren, \"uur werken levert \", totaal, \"Euro op\")\n"
      ],
      "execution_count": 0,
      "outputs": [
        {
          "output_type": "stream",
          "text": [
            "Wat verdien je per uur:10\n",
            "Hoeveel uur heb je gewerkt:5\n",
            "5 uur werken levert  50 Euro op\n"
          ],
          "name": "stdout"
        }
      ]
    },
    {
      "cell_type": "markdown",
      "metadata": {
        "id": "2NuskH0AnkWS",
        "colab_type": "text"
      },
      "source": [
        "### Met validatie:"
      ]
    },
    {
      "cell_type": "code",
      "metadata": {
        "id": "LCsp5uq0lgnz",
        "colab_type": "code",
        "outputId": "18138a5a-3802-4279-e109-cb528ec784e1",
        "colab": {
          "base_uri": "https://localhost:8080/",
          "height": 68
        }
      },
      "source": [
        "loon = input(\"Wat verdien je per uur:\")\n",
        "uren = input(\"Hoeveel uur heb je gewerkt:\")\n",
        "\n",
        "# Bereken het totaal\n",
        "try:\n",
        "  totaal = int(loon) * int(uren)\n",
        "\n",
        "  print(uren, \"uur werken levert \", totaal, \"Euro op\")\n",
        "\n",
        "except ValueError:\n",
        "   print(\"Je moet wel nummers invullen!\")"
      ],
      "execution_count": 0,
      "outputs": [
        {
          "output_type": "stream",
          "text": [
            "Wat verdien je per uur:10.5\n",
            "Hoeveel uur heb je gewerkt:3\n",
            "Je moet wel nummers invullen!\n"
          ],
          "name": "stdout"
        }
      ]
    },
    {
      "cell_type": "markdown",
      "metadata": {
        "id": "TuviT4Ns2z0u",
        "colab_type": "text"
      },
      "source": [
        ""
      ]
    },
    {
      "cell_type": "markdown",
      "metadata": {
        "id": "tk2oebl3n5X6",
        "colab_type": "text"
      },
      "source": [
        "### Met validatie (float):"
      ]
    },
    {
      "cell_type": "code",
      "metadata": {
        "id": "x4ZoJD3Kn9qD",
        "colab_type": "code",
        "outputId": "5ca64d92-94cb-4471-a09f-aaa55de5f62f",
        "colab": {
          "base_uri": "https://localhost:8080/",
          "height": 68
        }
      },
      "source": [
        "loon = input(\"Wat verdien je per uur:\")\n",
        "uren = input(\"Hoeveel uur heb je gewerkt:\")\n",
        "\n",
        "# Bereken het totaal\n",
        "try:\n",
        "  totaal = float(loon) * float(uren)\n",
        "\n",
        "  print(uren, \"uur werken levert \", totaal, \"Euro op\")\n",
        "\n",
        "except ValueError:\n",
        "   print(\"Je moet wel nummers invullen!\")"
      ],
      "execution_count": 1,
      "outputs": [
        {
          "output_type": "stream",
          "text": [
            "Wat verdien je per uur:10\n",
            "Hoeveel uur heb je gewerkt:5\n",
            "5 uur werken levert  50.0 Euro op\n"
          ],
          "name": "stdout"
        }
      ]
    },
    {
      "cell_type": "markdown",
      "metadata": {
        "id": "TGhXDT7m28HQ",
        "colab_type": "text"
      },
      "source": [
        "# Datatypes"
      ]
    },
    {
      "cell_type": "markdown",
      "metadata": {
        "id": "QZ2Uqn1l3F_S",
        "colab_type": "text"
      },
      "source": [
        "## Python Collections (Arrays)"
      ]
    },
    {
      "cell_type": "markdown",
      "metadata": {
        "id": "LzV1xjXB3JOV",
        "colab_type": "text"
      },
      "source": [
        "### Python Lists\n",
        "A list is a collection which is **ordered** and **changeable**. In Python lists are written with square brackets."
      ]
    },
    {
      "cell_type": "code",
      "metadata": {
        "id": "hSuCcoNC3LET",
        "colab_type": "code",
        "colab": {
          "base_uri": "https://localhost:8080/",
          "height": 391
        },
        "outputId": "8a7de683-0670-4e75-f739-bb208e0aad10"
      },
      "source": [
        "# List #\n",
        "thislist = [\"apple\", \"banana\", \"cherry\"]\n",
        "print(thislist)\n",
        "\n",
        "# Access item #\n",
        "thislist = [\"apple\", \"banana\", \"cherry\"]\n",
        "print(thislist[1])\n",
        "\n",
        "# Negative indexing #\n",
        "thislist = [\"apple\", \"banana\", \"cherry\"]\n",
        "print(thislist[-1])\n",
        "\n",
        "# Range of Indexes #\n",
        "thislist = [\"apple\", \"banana\", \"cherry\", \"orange\", \"kiwi\", \"melon\", \"mango\"]\n",
        "print(thislist[2:5])\n",
        "\n",
        "# Loop through a List #\n",
        "thislist = [\"apple\", \"banana\", \"cherry\"]\n",
        "for x in thislist:\n",
        "  print(x)\n",
        "\n",
        "# Check if Item Exists #\n",
        "thislist = [\"apple\", \"banana\", \"cherry\"]\n",
        "if \"apple\" in thislist:\n",
        "  print(\"Yes, 'apple' is in the fruits list\")\n",
        "  \n",
        "# List Length #\n",
        "thislist = [\"apple\", \"banana\", \"cherry\"]\n",
        "print(len(thislist))\n",
        "\n",
        "# Change Item #\n",
        "thislist = [\"apple\", \"banana\", \"cherry\"]\n",
        "thislist[1] = \"blackcurrant\"\n",
        "print(thislist)\n",
        "\n",
        "# Add Items #\n",
        "thislist = [\"apple\", \"banana\", \"cherry\"]\n",
        "thislist.append(\"orange\")\n",
        "print(thislist)\n",
        "\n",
        "# Remove Item - remove() #\n",
        "thislist = [\"apple\", \"banana\", \"cherry\"]\n",
        "thislist.remove(\"banana\")\n",
        "print(thislist)\n",
        "\n",
        "# Remove Item - pop() #\n",
        "thislist = [\"apple\", \"banana\", \"cherry\"]\n",
        "thislist.pop()\n",
        "print(thislist)\n",
        "\n",
        "# Remove Item - del #\n",
        "thislist = [\"apple\", \"banana\", \"cherry\"]\n",
        "del thislist[0]\n",
        "print(thislist)\n",
        "\n",
        "# Remove List - del #\n",
        "thislist = [\"apple\", \"banana\", \"cherry\"]\n",
        "del thislist\n",
        "try:\n",
        "  print(thislist)\n",
        "except NameError:\n",
        "  print(\"I'm not here\")\n",
        "\n",
        "# Empty List #\n",
        "thislist = [\"apple\", \"banana\", \"cherry\"]\n",
        "thislist.clear()\n",
        "print(thislist)\n",
        "\n",
        "# Copy a List - copy() #\n",
        "thislist = [\"apple\", \"banana\", \"cherry\"]\n",
        "mylist = thislist.copy()\n",
        "print(mylist)\n",
        "\n",
        "# Copy a List - list() #\n",
        "thislist = [\"apple\", \"banana\", \"cherry\"]\n",
        "mylist = list(thislist)\n",
        "print(mylist)\n",
        "\n",
        "# Join Two Lists #\n",
        "list1 = [\"a\", \"b\" , \"c\"]\n",
        "list2 = [1, 2, 3]\n",
        "list3 = list1 + list2\n",
        "print(list3)\n",
        "\n",
        "# Join Two Lists - append() #\n",
        "list1 = [\"a\", \"b\" , \"c\"]\n",
        "list2 = [1, 2, 3]\n",
        "for x in list2:\n",
        "  list1.append(x)\n",
        "print(list1)\n",
        "\n",
        "# Join Two Lists - extend() #\n",
        "list1 = [\"a\", \"b\" , \"c\"]\n",
        "list2 = [1, 2, 3]\n",
        "list1.extend(list2)\n",
        "print(list1)\n",
        "\n",
        "# The list() Constructor #\n",
        "thislist = list((\"apple\", \"banana\", \"cherry\")) # note the double round-brackets\n",
        "print(thislist)"
      ],
      "execution_count": 12,
      "outputs": [
        {
          "output_type": "stream",
          "text": [
            "['apple', 'banana', 'cherry']\n",
            "banana\n",
            "cherry\n",
            "['cherry', 'orange', 'kiwi']\n",
            "apple\n",
            "banana\n",
            "cherry\n",
            "Yes, 'apple' is in the fruits list\n",
            "3\n",
            "['apple', 'blackcurrant', 'cherry']\n",
            "['apple', 'banana', 'cherry', 'orange']\n",
            "['apple', 'cherry']\n",
            "['apple', 'banana']\n",
            "['banana', 'cherry']\n",
            "I'm not here\n",
            "[]\n",
            "['apple', 'banana', 'cherry']\n",
            "['apple', 'banana', 'cherry']\n",
            "['a', 'b', 'c', 1, 2, 3]\n",
            "['a', 'b', 'c', 1, 2, 3]\n",
            "['a', 'b', 'c', 1, 2, 3]\n",
            "['apple', 'banana', 'cherry']\n"
          ],
          "name": "stdout"
        }
      ]
    },
    {
      "cell_type": "markdown",
      "metadata": {
        "id": "isG53f61_MaC",
        "colab_type": "text"
      },
      "source": [
        "**List Methods**\n",
        "\n",
        "* append() - Adds an element at the end of the list\n",
        "* clear() - Removes all the elements from the list\n",
        "* copy() - Returns a copy of the list\n",
        "* count() - Returns the number of elements with the specified value\n",
        "* extend() - Add the elements of a list (or any iterable), to the end of the current list\n",
        "* index() - Returns the index of the first element with the specified value\n",
        "* insert() - Adds an element at the specified position\n",
        "* pop()\tRemoves the element at the specified position\n",
        "* remove() - Removes the item with the specified value\n",
        "* reverse() - Reverses the order of the list\n",
        "* sort() - Sorts the list\n",
        "\n"
      ]
    },
    {
      "cell_type": "markdown",
      "metadata": {
        "id": "sfu-DWTh_yXR",
        "colab_type": "text"
      },
      "source": [
        "### Python Tuples\n",
        "\n",
        "A tuple is a collection which is **ordered** and **unchangeable**. In Python tuples are written with round brackets."
      ]
    },
    {
      "cell_type": "code",
      "metadata": {
        "id": "zy4Iz1b2AIDy",
        "colab_type": "code",
        "colab": {
          "base_uri": "https://localhost:8080/",
          "height": 119
        },
        "outputId": "cb40c24c-217c-4a5f-f910-b47f72e8d42c"
      },
      "source": [
        "# Tupel #\n",
        "thistuple = (\"apple\", \"banana\", \"cherry\")\n",
        "print(thistuple[-1])\n",
        "\n",
        "# Create Tuple With One Item #\n",
        "thistuple = (\"apple\",)\n",
        "print(type(thistuple))\n",
        "thistuple = (\"apple\")\n",
        "print(type(thistuple))\n",
        "\n",
        "# The del keyword can delete the tuple completely #\n",
        "thistuple = (\"apple\", \"banana\", \"cherry\")\n",
        "del thistuple\n",
        "try:\n",
        "  print(thistuple) #this will raise an error because the tuple no longer exists\n",
        "except NameError:\n",
        "  print(\"I'm not here\")\n",
        "  \n",
        "# Join Two Tupels #\n",
        "tuple1 = (\"a\", \"b\" , \"c\")\n",
        "tuple2 = (1, 2, 3)\n",
        "tuple3 = tuple1 + tuple2\n",
        "print(tuple3)\n",
        "\n",
        "# The tuple() Constructor #\n",
        "thistuple = tuple((\"apple\", \"banana\", \"cherry\")) # note the double round-brackets\n",
        "print(thistuple)"
      ],
      "execution_count": 22,
      "outputs": [
        {
          "output_type": "stream",
          "text": [
            "cherry\n",
            "<class 'tuple'>\n",
            "<class 'str'>\n",
            "I'm not here\n",
            "('a', 'b', 'c', 1, 2, 3)\n",
            "('apple', 'banana', 'cherry')\n"
          ],
          "name": "stdout"
        }
      ]
    },
    {
      "cell_type": "markdown",
      "metadata": {
        "id": "ru9z8JMABibz",
        "colab_type": "text"
      },
      "source": [
        "**Tupel Methods**\n",
        "\n",
        "* count()\tReturns the number of times a specified value occurs in a tuple\n",
        "* index()\tSearches the tuple for a specified value and returns the position of where it was found\n",
        "\n"
      ]
    },
    {
      "cell_type": "markdown",
      "metadata": {
        "id": "fJ5qJ_1HB23b",
        "colab_type": "text"
      },
      "source": [
        "### Python Sets\n",
        "\n",
        "A set is a collection which is **unordered** and **unindexed**. In Python sets are written with curly brackets.\n",
        "1.   Sets are unordered, so you cannot be sure in which order the items will appear. \n",
        "2.   You cannot access items in a set by referring to an index, since sets are unordered the items has no index."
      ]
    },
    {
      "cell_type": "code",
      "metadata": {
        "id": "ben2LrvGB9fv",
        "colab_type": "code",
        "colab": {
          "base_uri": "https://localhost:8080/",
          "height": 34
        },
        "outputId": "ada647be-a037-4463-d790-6ca37b87c812"
      },
      "source": [
        "# Set #\n",
        "thisset = {\"apple\", \"banana\", \"cherry\"}\n",
        "print(thisset)"
      ],
      "execution_count": 24,
      "outputs": [
        {
          "output_type": "stream",
          "text": [
            "{'banana', 'apple', 'cherry'}\n"
          ],
          "name": "stdout"
        }
      ]
    },
    {
      "cell_type": "markdown",
      "metadata": {
        "id": "q6WnXYPHD85N",
        "colab_type": "text"
      },
      "source": [
        "**Set Methods**\n",
        "\n",
        "\n",
        "* add()\tAdds an element to the set\n",
        "* clear()\tRemoves all the elements from the set\n",
        "* copy()\tReturns a copy of the set\n",
        "* difference()\tReturns a set containing the difference between two or more sets\n",
        "* difference_update()\tRemoves the items in this set that are also included in another, specified set\n",
        "* discard()\tRemove the specified item\n",
        "* intersection()\tReturns a set, that is the intersection of two other sets\n",
        "* intersection_update()\tRemoves the items in this set that are not present in other, specified set(s)\n",
        "* isdisjoint()\tReturns whether two sets have a intersection or not\n",
        "* issubset()\tReturns whether another set contains this set or not\n",
        "* issuperset()\tReturns whether this set contains another set or not\n",
        "* pop()\tRemoves an element from the set\n",
        "* remove()\tRemoves the specified element\n",
        "* symmetric_difference()\tReturns a set with the symmetric differences of two sets\n",
        "* symmetric_difference_update()\tinserts the symmetric differences from this set and another\n",
        "* union()\tReturn a set containing the union of sets\n",
        "* update()\tUpdate the set with the union of this set and others"
      ]
    }
  ]
}